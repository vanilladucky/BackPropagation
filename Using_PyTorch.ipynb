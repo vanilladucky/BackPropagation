{
 "cells": [
  {
   "cell_type": "markdown",
   "metadata": {},
   "source": [
    "# Using PyTorch"
   ]
  },
  {
   "cell_type": "code",
   "execution_count": 3,
   "metadata": {},
   "outputs": [
    {
     "name": "stdout",
     "output_type": "stream",
     "text": [
      "Shape of X_train: torch.Size([70000, 2]), y_train: torch.Size([70000]), X_test: torch.Size([30000, 2]), y_test = torch.Size([30000])\n"
     ]
    },
    {
     "data": {
      "text/plain": [
       "=================================================================\n",
       "Layer (type:depth-idx)                   Param #\n",
       "=================================================================\n",
       "SimpleModel                              --\n",
       "├─Linear: 1-1                            30\n",
       "├─Linear: 1-2                            11\n",
       "├─Sigmoid: 1-3                           --\n",
       "=================================================================\n",
       "Total params: 41\n",
       "Trainable params: 41\n",
       "Non-trainable params: 0\n",
       "================================================================="
      ]
     },
     "execution_count": 3,
     "metadata": {},
     "output_type": "execute_result"
    }
   ],
   "source": [
    "import torch \n",
    "import torch.nn as nn \n",
    "import numpy as np \n",
    "import torchinfo \n",
    "from torchinfo import summary \n",
    "from tqdm import tqdm\n",
    "import math\n",
    "\n",
    "def equation(input:torch.Tensor): # z = 5 * a^2 + 3 * b^2\n",
    "    return torch.matmul(torch.mul(input, input), torch.tensor([5, 3], dtype=torch.float32))\n",
    "\n",
    "num_of_data = 100000\n",
    "inputs = torch.randn(num_of_data, 2)\n",
    "outputs = equation(inputs)\n",
    "\n",
    "class SimpleModel(nn.Module):\n",
    "\n",
    "    def __init__(self):\n",
    "        super().__init__()\n",
    "        self.fc1 = nn.Linear(2, 10)\n",
    "        self.fc2 = nn.Linear(10, 1)\n",
    "        self.activation = nn.Sigmoid()\n",
    "\n",
    "    def forward(self, x):\n",
    "        x = self.fc1(x)\n",
    "        x = self.activation(x)\n",
    "        x = self.fc2(x)\n",
    "        return x \n",
    "\n",
    "device = torch.device('mps')\n",
    "split = int(inputs.shape[0] * 0.7)\n",
    "X_train, y_train, X_test, y_test = inputs[:split].to(device), outputs[:split].to(device), inputs[split:].to(device), outputs[split:].to(device)\n",
    "print(f\"Shape of X_train: {X_train.shape}, y_train: {y_train.shape}, X_test: {X_test.shape}, y_test = {y_test.shape}\")\n",
    "\n",
    "model = SimpleModel().to(device)\n",
    "summary(model) "
   ]
  },
  {
   "cell_type": "code",
   "execution_count": 4,
   "metadata": {},
   "outputs": [
    {
     "name": "stdout",
     "output_type": "stream",
     "text": [
      "====Epoch 0====\n"
     ]
    },
    {
     "name": "stderr",
     "output_type": "stream",
     "text": [
      "100%|██████████| 699/699 [00:11<00:00, 59.39it/s]\n"
     ]
    },
    {
     "name": "stdout",
     "output_type": "stream",
     "text": [
      "Training Loss: 58.7142123930444 | Validation Loss: 36.887394142788786\n",
      "====Epoch 1====\n"
     ]
    },
    {
     "name": "stderr",
     "output_type": "stream",
     "text": [
      "100%|██████████| 699/699 [00:10<00:00, 69.48it/s] \n"
     ]
    },
    {
     "name": "stdout",
     "output_type": "stream",
     "text": [
      "Training Loss: 22.56092092953356 | Validation Loss: 13.007554610836067\n",
      "====Epoch 2====\n"
     ]
    },
    {
     "name": "stderr",
     "output_type": "stream",
     "text": [
      "100%|██████████| 699/699 [00:09<00:00, 71.32it/s] \n"
     ]
    },
    {
     "name": "stdout",
     "output_type": "stream",
     "text": [
      "Training Loss: 10.043219832391697 | Validation Loss: 7.6201747651881595\n",
      "====Epoch 3====\n"
     ]
    },
    {
     "name": "stderr",
     "output_type": "stream",
     "text": [
      "100%|██████████| 699/699 [00:10<00:00, 68.28it/s] \n"
     ]
    },
    {
     "name": "stdout",
     "output_type": "stream",
     "text": [
      "Training Loss: 6.5316859311470825 | Validation Loss: 5.640292018552289\n",
      "====Epoch 4====\n"
     ]
    },
    {
     "name": "stderr",
     "output_type": "stream",
     "text": [
      "100%|██████████| 699/699 [00:09<00:00, 71.15it/s] \n"
     ]
    },
    {
     "name": "stdout",
     "output_type": "stream",
     "text": [
      "Training Loss: 5.060668268258309 | Validation Loss: 4.648912875947346\n",
      "====Epoch 5====\n"
     ]
    },
    {
     "name": "stderr",
     "output_type": "stream",
     "text": [
      "100%|██████████| 699/699 [00:09<00:00, 71.29it/s] \n"
     ]
    },
    {
     "name": "stdout",
     "output_type": "stream",
     "text": [
      "Training Loss: 4.265044145147518 | Validation Loss: 4.02518887483954\n",
      "====Epoch 6====\n"
     ]
    },
    {
     "name": "stderr",
     "output_type": "stream",
     "text": [
      "100%|██████████| 699/699 [00:09<00:00, 70.11it/s] \n"
     ]
    },
    {
     "name": "stdout",
     "output_type": "stream",
     "text": [
      "Training Loss: 3.7343322224541966 | Validation Loss: 3.5769822601490593\n",
      "====Epoch 7====\n"
     ]
    },
    {
     "name": "stderr",
     "output_type": "stream",
     "text": [
      "100%|██████████| 699/699 [00:11<00:00, 63.27it/s] \n"
     ]
    },
    {
     "name": "stdout",
     "output_type": "stream",
     "text": [
      "Training Loss: 3.339565985874727 | Validation Loss: 3.2308849148128345\n",
      "====Epoch 8====\n"
     ]
    },
    {
     "name": "stderr",
     "output_type": "stream",
     "text": [
      "100%|██████████| 699/699 [00:10<00:00, 68.45it/s] \n"
     ]
    },
    {
     "name": "stdout",
     "output_type": "stream",
     "text": [
      "Training Loss: 3.029321526935343 | Validation Loss: 2.953049585372708\n",
      "====Epoch 9====\n"
     ]
    },
    {
     "name": "stderr",
     "output_type": "stream",
     "text": [
      "100%|██████████| 699/699 [00:09<00:00, 70.96it/s] \n"
     ]
    },
    {
     "name": "stdout",
     "output_type": "stream",
     "text": [
      "Training Loss: 2.7777490767627655 | Validation Loss: 2.7245000437350577\n"
     ]
    }
   ],
   "source": [
    "lr = 0.01\n",
    "n_epochs = 10\n",
    "optimizer = torch.optim.SGD(model.parameters(), lr = lr)\n",
    "criterion = nn.MSELoss()\n",
    "batch_size = 100\n",
    "log_interval = 1\n",
    "\n",
    "for epoch in range(n_epochs):\n",
    "    print(f\"====Epoch {epoch}====\")\n",
    "    training_loss = 0\n",
    "    training_count = 0\n",
    "    for batch_end_idx in tqdm(range(batch_size, X_train.shape[0], batch_size)):\n",
    "        optimizer.zero_grad()\n",
    "        out = model(X_train[:batch_end_idx])\n",
    "        loss = criterion(out, y_train[:batch_end_idx].view(-1,1))\n",
    "        loss.backward()\n",
    "        optimizer.step()\n",
    "        training_loss += loss.item()\n",
    "        training_count += 1\n",
    "\n",
    "    if epoch % log_interval == 0:\n",
    "        model.eval()\n",
    "        validation_loss = 0\n",
    "        validation_count = 0\n",
    "        for batch_end_idx in range(batch_size, X_test.shape[0], batch_size):\n",
    "            out = model(X_test[:batch_end_idx])\n",
    "            loss = criterion(out, y_test[:batch_end_idx].view(-1,1))\n",
    "            validation_loss += loss.item()\n",
    "            validation_count += 1\n",
    "        print(f\"Training Loss: {training_loss / training_count} | Validation Loss: {validation_loss / validation_count}\")\n",
    "        model.train()"
   ]
  }
 ],
 "metadata": {
  "kernelspec": {
   "display_name": "Python 3.10.10 ('machinelearning': venv)",
   "language": "python",
   "name": "python3"
  },
  "language_info": {
   "codemirror_mode": {
    "name": "ipython",
    "version": 3
   },
   "file_extension": ".py",
   "mimetype": "text/x-python",
   "name": "python",
   "nbconvert_exporter": "python",
   "pygments_lexer": "ipython3",
   "version": "3.10.10"
  },
  "orig_nbformat": 4,
  "vscode": {
   "interpreter": {
    "hash": "68339890f90b7cc04351217391b998bebccc50e4c246697aa46d0c3bd6df040a"
   }
  }
 },
 "nbformat": 4,
 "nbformat_minor": 2
}
